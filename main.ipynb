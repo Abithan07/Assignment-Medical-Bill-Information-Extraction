{
 "cells": [
  {
   "cell_type": "code",
   "execution_count": 65,
   "metadata": {},
   "outputs": [],
   "source": [
    "import pytesseract\n",
    "from pdf2image import convert_from_path\n",
    "import json\n",
    "import cv2\n",
    "import numpy as np\n",
    "import re\n",
    "from datetime import datetime\n"
   ]
  },
  {
   "cell_type": "code",
   "execution_count": 66,
   "metadata": {},
   "outputs": [],
   "source": [
    "# Path to the Poppler installation\n",
    "pop_path = r'C:\\Program Files\\poppler-24.08.0\\Library\\bin'\n",
    "\n",
    "# Path to Tesseract OCR file\n",
    "pytesseract.pytesseract.tesseract_cmd = r'C:\\Program Files\\Tesseract-OCR\\tesseract.exe'\n",
    "\n",
    "# Path to the sample PDF file\n",
    "pdf_path = r'D:\\semi 5\\SenZmate\\Sample_For_Assignment.pdf'"
   ]
  },
  {
   "cell_type": "code",
   "execution_count": 67,
   "metadata": {},
   "outputs": [],
   "source": [
    "# Helper function to extract text using OCR from an image\n",
    "def extract_text_from_image(image):\n",
    "    gray = cv2.cvtColor(image, cv2.COLOR_BGR2GRAY)\n",
    "    _, threshold_img = cv2.threshold(gray, 150, 255, cv2.THRESH_BINARY_INV)\n",
    "    kernel = np.ones((2, 2), np.uint8)\n",
    "    dilated_img = cv2.dilate(threshold_img, kernel, iterations=1)\n",
    "    eroded_img = cv2.erode(dilated_img, kernel, iterations=1)\n",
    "    closed_img = cv2.morphologyEx(eroded_img, cv2.MORPH_CLOSE, kernel)\n",
    "    text = pytesseract.image_to_string(closed_img)\n",
    "    # print(text)\n",
    "    return text"
   ]
  },
  {
   "cell_type": "code",
   "execution_count": 68,
   "metadata": {},
   "outputs": [],
   "source": [
    "# Helper function to extract table-like structures by detecting prices\n",
    "def extract_table_from_text(text):\n",
    "    lines = text.split('\\n')\n",
    "    table = []\n",
    "    for line in lines:\n",
    "        # Skip lines that resemble common date formats\n",
    "        if re.search(r'\\b(\\d{1,2}[/.-]\\d{1,2}[/.-]\\d{2,4})\\b', line):\n",
    "            continue\n",
    "        if 'Subtotal' in line:\n",
    "            continue\n",
    "\n",
    "        \n",
    "        # Detect lines with prices (decimal numbers not resembling dates)\n",
    "        if re.search(r'\\b\\d+\\.\\d{2}\\b', line):\n",
    "            columns = line.split()\n",
    "            if len(columns) >= 3:  # Assuming at least 3 columns for description, quantity, and amount\n",
    "                table.append({\n",
    "                    \"Code\":columns[0],\n",
    "                    \"DESCRIPTION\": ' '.join(columns[1:-2]),\n",
    "                    \"QTY\": columns[-2],\n",
    "                    \"TOTAL\": columns[-1]\n",
    "                })\n",
    "    return table\n"
   ]
  },
  {
   "cell_type": "code",
   "execution_count": 69,
   "metadata": {},
   "outputs": [],
   "source": [
    "# Helper function to extract key-value pairs for non-table content, including dates\n",
    "def extract_key_values(text):\n",
    "    key_values = {}\n",
    "    keywords = {\n",
    "        \"Patient Name\": \"Patient Name\", \n",
    "        \"National ID\": \"Patient National ID\", \n",
    "        \"Hospital\": \"Hospital / clinic\", \n",
    "        \"GST REG NO\": \"GST Reg No\",\n",
    "        \"Visit Date\": \"Visit Date\", \n",
    "        \"Tax Invoice Date\": \"Tax Invoice Date\", \n",
    "        \"NET AMOUNT PAYABLE\": \"Total Amount Payable\",\n",
    "        \"Invoice No\": \"Tax invoice number/Invoice No\",\n",
    "        \"Date Found\": \"Date Found\"\n",
    "    }\n",
    "    \n",
    "    for line in text.split(\"\\n\"):\n",
    "        # Extract common keywords\n",
    "        for key, display_name in keywords.items():\n",
    "            if key in line and key != \"Hospital\":\n",
    "                if \":\" in line:\n",
    "                    # key_values[display_name] = line.split(\":\")[-1].strip()\n",
    "                    key_values[display_name] = line.split(\":\")[1].strip().split()[0]\n",
    "                else:\n",
    "                    key_values[display_name] = line.split()[-1].strip()\n",
    "            elif key in line: \n",
    "                key_values[display_name] = line.split(\":\")[-1].strip()\n",
    "        \n",
    "        # Extract all date patterns specifically\n",
    "        date_matches = re.findall(r'\\b(\\d{1,2}[/.-]\\d{1,2}[/.-]\\d{2,4})\\b', line)\n",
    "        \n",
    "        # Initialize or update key_values with found dates\n",
    "        if \"Date Found\" in key_values:\n",
    "            key_values[\"Date Found\"].extend(date_matches)  # Append new dates to the existing list\n",
    "        else:\n",
    "            key_values[\"Date Found\"] = date_matches  # Create the list with the found dates if not present\n",
    "            \n",
    "        # print(\"Date Found:\", key_values[\"Date Found\"])\n",
    "\n",
    "        # Convert date strings to datetime objects for sorting\n",
    "        date_objects = []\n",
    "        for date in key_values[\"Date Found\"]:\n",
    "            if \"/\" in date:\n",
    "                date_objects.append(datetime.strptime(date, \"%d/%m/%Y\"))\n",
    "            elif \"-\" in date:\n",
    "                date_objects.append(datetime.strptime(date, \"%d-%m-%Y\"))\n",
    "            elif \".\" in date:\n",
    "                date_objects.append(datetime.strptime(date, \"%d.%m.%Y\"))\n",
    "\n",
    "        # Check if we have any dates to process\n",
    "        if date_objects:\n",
    "            # Sort the dates in ascending order\n",
    "            date_objects.sort()\n",
    "            \n",
    "            # Assign the earliest and latest dates\n",
    "            visit_date = date_objects[0].strftime(\"%d/%m/%Y\")\n",
    "            invoice_date = date_objects[-1].strftime(\"%d/%m/%Y\")\n",
    "\n",
    "            # Update the key_values dictionary with the results\n",
    "            key_values.update({\n",
    "                \"Visit Date\": visit_date,\n",
    "                \"Tax Invoice Date\": invoice_date\n",
    "            })\n",
    "        else:\n",
    "            key_values.update({\n",
    "                \"Visit Date\": None,\n",
    "                \"Tax Invoice Date\": None\n",
    "            })\n",
    "\n",
    "    # print(key_values)\n",
    "\n",
    "\n",
    "\n",
    "    return key_values"
   ]
  },
  {
   "cell_type": "code",
   "execution_count": 70,
   "metadata": {},
   "outputs": [],
   "source": [
    "# Main function to extract data from the medical bill PDF\n",
    "def extract_data_from_pdf(pdf_path):\n",
    "    pages = convert_from_path(pdf_path, 200, poppler_path=pop_path) \n",
    "    output = []\n",
    "\n",
    "    for page_num, page in enumerate(pages, start=1):\n",
    "        page_cv = cv2.cvtColor(np.array(page), cv2.COLOR_RGB2BGR)\n",
    "        text = extract_text_from_image(page_cv)\n",
    "        \n",
    "        page_data = {\n",
    "            \"Page_Number\": page_num,\n",
    "            \"Table\": extract_table_from_text(text),\n",
    "            \"Key_Values\": extract_key_values(text)\n",
    "        }\n",
    "        output.append(page_data)\n",
    "\n",
    "    return output"
   ]
  },
  {
   "cell_type": "code",
   "execution_count": 71,
   "metadata": {},
   "outputs": [
    {
     "name": "stdout",
     "output_type": "stream",
     "text": [
      "Data extraction complete. JSON saved as output.json.\n"
     ]
    }
   ],
   "source": [
    "# Extract data and format in JSON\n",
    "data = extract_data_from_pdf(pdf_path)\n",
    "output_json = json.dumps(data, indent=4)\n",
    "\n",
    "# Save JSON output to a file\n",
    "with open(\"output.json\", \"w\") as f:\n",
    "    f.write(output_json)\n",
    "\n",
    "print(\"Data extraction complete. JSON saved as output.json.\")"
   ]
  }
 ],
 "metadata": {
  "kernelspec": {
   "display_name": "Python 3",
   "language": "python",
   "name": "python3"
  },
  "language_info": {
   "codemirror_mode": {
    "name": "ipython",
    "version": 3
   },
   "file_extension": ".py",
   "mimetype": "text/x-python",
   "name": "python",
   "nbconvert_exporter": "python",
   "pygments_lexer": "ipython3",
   "version": "3.12.4"
  }
 },
 "nbformat": 4,
 "nbformat_minor": 2
}
